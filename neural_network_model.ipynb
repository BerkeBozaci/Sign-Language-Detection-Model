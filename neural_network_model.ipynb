{
 "cells": [
  {
   "cell_type": "markdown",
   "metadata": {},
   "source": [
    "# Neural Network Training"
   ]
  },
  {
   "cell_type": "code",
   "execution_count": 1,
   "metadata": {},
   "outputs": [
    {
     "name": "stdout",
     "output_type": "stream",
     "text": [
      "Epoch 1/15\n"
     ]
    },
    {
     "name": "stderr",
     "output_type": "stream",
     "text": [
      "/Users/berkebozaci/.pyenv/versions/3.11.3/lib/python3.11/site-packages/keras/src/layers/core/input_layer.py:26: UserWarning: Argument `input_shape` is deprecated. Use `shape` instead.\n",
      "  warnings.warn(\n"
     ]
    },
    {
     "name": "stdout",
     "output_type": "stream",
     "text": [
      "\u001b[1m418/418\u001b[0m \u001b[32m━━━━━━━━━━━━━━━━━━━━\u001b[0m\u001b[37m\u001b[0m \u001b[1m1s\u001b[0m 824us/step - accuracy: 0.4802 - loss: 2.1628 - val_accuracy: 0.9275 - val_loss: 0.3391\n",
      "Epoch 2/15\n",
      "\u001b[1m418/418\u001b[0m \u001b[32m━━━━━━━━━━━━━━━━━━━━\u001b[0m\u001b[37m\u001b[0m \u001b[1m0s\u001b[0m 550us/step - accuracy: 0.9304 - loss: 0.2808 - val_accuracy: 0.9437 - val_loss: 0.1938\n",
      "Epoch 3/15\n",
      "\u001b[1m418/418\u001b[0m \u001b[32m━━━━━━━━━━━━━━━━━━━━\u001b[0m\u001b[37m\u001b[0m \u001b[1m0s\u001b[0m 552us/step - accuracy: 0.9444 - loss: 0.1777 - val_accuracy: 0.9518 - val_loss: 0.1510\n",
      "Epoch 4/15\n",
      "\u001b[1m418/418\u001b[0m \u001b[32m━━━━━━━━━━━━━━━━━━━━\u001b[0m\u001b[37m\u001b[0m \u001b[1m0s\u001b[0m 532us/step - accuracy: 0.9502 - loss: 0.1535 - val_accuracy: 0.9521 - val_loss: 0.1365\n",
      "Epoch 5/15\n",
      "\u001b[1m418/418\u001b[0m \u001b[32m━━━━━━━━━━━━━━━━━━━━\u001b[0m\u001b[37m\u001b[0m \u001b[1m0s\u001b[0m 544us/step - accuracy: 0.9463 - loss: 0.1541 - val_accuracy: 0.9512 - val_loss: 0.1431\n",
      "Epoch 6/15\n",
      "\u001b[1m418/418\u001b[0m \u001b[32m━━━━━━━━━━━━━━━━━━━━\u001b[0m\u001b[37m\u001b[0m \u001b[1m0s\u001b[0m 560us/step - accuracy: 0.9466 - loss: 0.1495 - val_accuracy: 0.9479 - val_loss: 0.1351\n",
      "Epoch 7/15\n",
      "\u001b[1m418/418\u001b[0m \u001b[32m━━━━━━━━━━━━━━━━━━━━\u001b[0m\u001b[37m\u001b[0m \u001b[1m0s\u001b[0m 535us/step - accuracy: 0.9496 - loss: 0.1423 - val_accuracy: 0.9518 - val_loss: 0.1409\n",
      "Epoch 8/15\n",
      "\u001b[1m418/418\u001b[0m \u001b[32m━━━━━━━━━━━━━━━━━━━━\u001b[0m\u001b[37m\u001b[0m \u001b[1m0s\u001b[0m 555us/step - accuracy: 0.9522 - loss: 0.1372 - val_accuracy: 0.9242 - val_loss: 0.1485\n",
      "Epoch 9/15\n",
      "\u001b[1m418/418\u001b[0m \u001b[32m━━━━━━━━━━━━━━━━━━━━\u001b[0m\u001b[37m\u001b[0m \u001b[1m0s\u001b[0m 543us/step - accuracy: 0.9507 - loss: 0.1370 - val_accuracy: 0.9500 - val_loss: 0.1274\n",
      "Epoch 10/15\n",
      "\u001b[1m418/418\u001b[0m \u001b[32m━━━━━━━━━━━━━━━━━━━━\u001b[0m\u001b[37m\u001b[0m \u001b[1m0s\u001b[0m 557us/step - accuracy: 0.9490 - loss: 0.1363 - val_accuracy: 0.9542 - val_loss: 0.1193\n",
      "Epoch 11/15\n",
      "\u001b[1m418/418\u001b[0m \u001b[32m━━━━━━━━━━━━━━━━━━━━\u001b[0m\u001b[37m\u001b[0m \u001b[1m0s\u001b[0m 545us/step - accuracy: 0.9539 - loss: 0.1331 - val_accuracy: 0.9560 - val_loss: 0.1246\n",
      "Epoch 12/15\n",
      "\u001b[1m418/418\u001b[0m \u001b[32m━━━━━━━━━━━━━━━━━━━━\u001b[0m\u001b[37m\u001b[0m \u001b[1m0s\u001b[0m 530us/step - accuracy: 0.9465 - loss: 0.1482 - val_accuracy: 0.9545 - val_loss: 0.1249\n",
      "Epoch 13/15\n",
      "\u001b[1m418/418\u001b[0m \u001b[32m━━━━━━━━━━━━━━━━━━━━\u001b[0m\u001b[37m\u001b[0m \u001b[1m0s\u001b[0m 562us/step - accuracy: 0.9536 - loss: 0.1295 - val_accuracy: 0.9542 - val_loss: 0.1208\n",
      "Epoch 14/15\n",
      "\u001b[1m418/418\u001b[0m \u001b[32m━━━━━━━━━━━━━━━━━━━━\u001b[0m\u001b[37m\u001b[0m \u001b[1m0s\u001b[0m 655us/step - accuracy: 0.9536 - loss: 0.1326 - val_accuracy: 0.9545 - val_loss: 0.1195\n",
      "Epoch 15/15\n",
      "\u001b[1m418/418\u001b[0m \u001b[32m━━━━━━━━━━━━━━━━━━━━\u001b[0m\u001b[37m\u001b[0m \u001b[1m0s\u001b[0m 561us/step - accuracy: 0.9503 - loss: 0.1368 - val_accuracy: 0.9542 - val_loss: 0.1198\n",
      "\u001b[1m105/105\u001b[0m \u001b[32m━━━━━━━━━━━━━━━━━━━━\u001b[0m\u001b[37m\u001b[0m \u001b[1m0s\u001b[0m 364us/step - accuracy: 0.9568 - loss: 0.1166\n",
      "Test Accuracy: 0.9541641473770142\n",
      "INFO:tensorflow:Assets written to: neural_network_model/assets\n"
     ]
    },
    {
     "name": "stderr",
     "output_type": "stream",
     "text": [
      "INFO:tensorflow:Assets written to: neural_network_model/assets\n"
     ]
    },
    {
     "name": "stdout",
     "output_type": "stream",
     "text": [
      "Saved artifact at 'neural_network_model'. The following endpoints are available:\n",
      "\n",
      "* Endpoint 'serve'\n",
      "  args_0 (POSITIONAL_ONLY): TensorSpec(shape=(None, 10), dtype=tf.float32, name='keras_tensor')\n",
      "Output Type:\n",
      "  TensorSpec(shape=(None, 26), dtype=tf.float32, name=None)\n",
      "Captures:\n",
      "  14290333584: TensorSpec(shape=(), dtype=tf.resource, name=None)\n",
      "  14290334544: TensorSpec(shape=(), dtype=tf.resource, name=None)\n",
      "  14290334736: TensorSpec(shape=(), dtype=tf.resource, name=None)\n",
      "  14290335696: TensorSpec(shape=(), dtype=tf.resource, name=None)\n",
      "  14290334352: TensorSpec(shape=(), dtype=tf.resource, name=None)\n",
      "  14290335120: TensorSpec(shape=(), dtype=tf.resource, name=None)\n"
     ]
    }
   ],
   "source": [
    "import pandas as pd\n",
    "import tensorflow as tf\n",
    "from sklearn.model_selection import train_test_split\n",
    "from sklearn.preprocessing import LabelEncoder\n",
    "\n",
    "# Load your dataset (CSV format)\n",
    "# Ensure that your CSV has appropriate column names matching the dataset description\n",
    "data = pd.read_csv(\"all_letters_with_label.csv\")\n",
    "\n",
    "# Splitting features and labels\n",
    "X = data.drop(columns=[\"Label\"])  # All the input features\n",
    "y = data[\"Label\"]  # The output label (A, B, ..., Z)\n",
    "\n",
    "# Encode the labels (A-Z) as integers (0-25)\n",
    "label_encoder = LabelEncoder()\n",
    "y_encoded = label_encoder.fit_transform(y)\n",
    "\n",
    "# Split the data into training and testing sets (80% train, 20% test)\n",
    "X_train, X_test, y_train, y_test = train_test_split(X, y_encoded, test_size=0.2, random_state=42)\n",
    "\n",
    "# Define a simple neural network model using Keras\n",
    "model = tf.keras.Sequential([\n",
    "    tf.keras.layers.InputLayer(input_shape=(X_train.shape[1],)),  # Input shape is 10 features\n",
    "    tf.keras.layers.Dense(64, activation=\"relu\"),  # Hidden layer with 64 units\n",
    "    tf.keras.layers.Dense(32, activation=\"relu\"),  # Hidden layer with 32 units\n",
    "    tf.keras.layers.Dense(26, activation=\"softmax\")  # Output layer for 26 classes (A-Z)\n",
    "])\n",
    "\n",
    "# Compile the model\n",
    "model.compile(optimizer=\"adam\", loss=\"sparse_categorical_crossentropy\", metrics=[\"accuracy\"])\n",
    "\n",
    "# Train the model\n",
    "model.fit(X_train, y_train, epochs=15, batch_size=32, validation_data=(X_test, y_test))\n",
    "\n",
    "# Evaluate the model on the test set\n",
    "test_loss, test_accuracy = model.evaluate(X_test, y_test)\n",
    "print(f\"Test Accuracy: {test_accuracy}\")\n",
    "\n",
    "# Save the model in TensorFlow SavedModel format for conversion to TensorFlow.js\n",
    "model.export(\"neural_network_model\")\n"
   ]
  },
  {
   "cell_type": "markdown",
   "metadata": {},
   "source": [
    "### **To Convert the model to tensorflow compatible model** \\\n",
    "`tensorflowjs_converter --input_format=tf_saved_model --output_format=tfjs_graph_model ./neural_network_model ./neural_network_model_js`\n"
   ]
  }
 ],
 "metadata": {
  "kernelspec": {
   "display_name": "Python 3",
   "language": "python",
   "name": "python3"
  },
  "language_info": {
   "codemirror_mode": {
    "name": "ipython",
    "version": 3
   },
   "file_extension": ".py",
   "mimetype": "text/x-python",
   "name": "python",
   "nbconvert_exporter": "python",
   "pygments_lexer": "ipython3",
   "version": "3.11.3"
  }
 },
 "nbformat": 4,
 "nbformat_minor": 2
}

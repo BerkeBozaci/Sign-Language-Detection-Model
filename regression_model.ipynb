{
 "cells": [
  {
   "cell_type": "markdown",
   "metadata": {},
   "source": [
    "Logistic Regression"
   ]
  },
  {
   "cell_type": "code",
   "execution_count": 1,
   "metadata": {},
   "outputs": [
    {
     "name": "stdout",
     "output_type": "stream",
     "text": [
      "Logistic Regression Accuracy: 0.8830\n",
      "              precision    recall  f1-score   support\n",
      "\n",
      "           0       0.92      0.64      0.76        56\n",
      "           1       0.00      0.00      0.00         5\n",
      "          10       0.90      1.00      0.95        36\n",
      "          11       0.63      1.00      0.77        29\n",
      "          12       0.92      0.77      0.84        71\n",
      "          13       1.00      0.88      0.93        48\n",
      "          14       1.00      0.74      0.85        31\n",
      "          15       0.93      0.90      0.91        59\n",
      "          16       0.65      0.88      0.75        60\n",
      "          17       0.76      0.93      0.84        30\n",
      "          18       0.88      0.88      0.88        42\n",
      "          19       0.95      0.79      0.86        24\n",
      "           2       0.90      1.00      0.95        27\n",
      "          20       1.00      0.16      0.27        32\n",
      "          21       1.00      1.00      1.00        39\n",
      "          22       0.94      1.00      0.97        63\n",
      "          23       1.00      1.00      1.00        57\n",
      "           3       0.81      0.94      0.87        36\n",
      "           4       0.89      0.98      0.93        50\n",
      "           5       1.00      1.00      1.00        28\n",
      "           6       1.00      0.87      0.93        31\n",
      "           7       0.91      1.00      0.95        39\n",
      "           8       0.98      0.96      0.97        49\n",
      "           9       0.80      0.98      0.88        58\n",
      "\n",
      "    accuracy                           0.88      1000\n",
      "   macro avg       0.87      0.85      0.84      1000\n",
      "weighted avg       0.90      0.88      0.87      1000\n",
      "\n"
     ]
    },
    {
     "name": "stderr",
     "output_type": "stream",
     "text": [
      "/Users/berkebozaci/.pyenv/versions/3.11.3/lib/python3.11/site-packages/sklearn/linear_model/_logistic.py:1256: FutureWarning: 'multi_class' was deprecated in version 1.5 and will be removed in 1.7. Use OneVsRestClassifier(LogisticRegression(..)) instead. Leave it to its default value to avoid this warning.\n",
      "  warnings.warn(\n",
      "/Users/berkebozaci/.pyenv/versions/3.11.3/lib/python3.11/site-packages/sklearn/metrics/_classification.py:1531: UndefinedMetricWarning: Precision is ill-defined and being set to 0.0 in labels with no predicted samples. Use `zero_division` parameter to control this behavior.\n",
      "  _warn_prf(average, modifier, f\"{metric.capitalize()} is\", len(result))\n",
      "/Users/berkebozaci/.pyenv/versions/3.11.3/lib/python3.11/site-packages/sklearn/metrics/_classification.py:1531: UndefinedMetricWarning: Precision is ill-defined and being set to 0.0 in labels with no predicted samples. Use `zero_division` parameter to control this behavior.\n",
      "  _warn_prf(average, modifier, f\"{metric.capitalize()} is\", len(result))\n",
      "/Users/berkebozaci/.pyenv/versions/3.11.3/lib/python3.11/site-packages/sklearn/metrics/_classification.py:1531: UndefinedMetricWarning: Precision is ill-defined and being set to 0.0 in labels with no predicted samples. Use `zero_division` parameter to control this behavior.\n",
      "  _warn_prf(average, modifier, f\"{metric.capitalize()} is\", len(result))\n"
     ]
    }
   ],
   "source": [
    "import pandas as pd\n",
    "from sklearn.model_selection import train_test_split\n",
    "from sklearn.preprocessing import LabelEncoder\n",
    "from sklearn.linear_model import LogisticRegression\n",
    "from sklearn.metrics import accuracy_score, classification_report\n",
    "\n",
    "# Load the formatted data\n",
    "data = pd.read_csv('formatted_data.csv')\n",
    "\n",
    "# Initialize LabelEncoder for the label column\n",
    "label_encoder = LabelEncoder()\n",
    "data['Label'] = label_encoder.fit_transform(data['Label'].astype(str))\n",
    "\n",
    "# Split the data into features (X) and target (y)\n",
    "X = data.iloc[:, :-1].values  # All columns except the last one\n",
    "y = data['Label'].values      # The last column is the target\n",
    "\n",
    "# Split into training and testing data\n",
    "X_train, X_test, y_train, y_test = train_test_split(X, y, test_size=0.2, random_state=42)\n",
    "\n",
    "# Define the Logistic Regression model\n",
    "lr_model = LogisticRegression(multi_class='ovr', solver='liblinear')\n",
    "\n",
    "# Train the model\n",
    "lr_model.fit(X_train, y_train)\n",
    "\n",
    "# Predict on the test data\n",
    "y_pred = lr_model.predict(X_test)\n",
    "\n",
    "# Display the accuracy\n",
    "accuracy = accuracy_score(y_test, y_pred)\n",
    "print(f'Logistic Regression Accuracy: {accuracy:.4f}')\n",
    "\n",
    "# Print the classification report\n",
    "print(classification_report(y_test, y_pred, target_names=label_encoder.inverse_transform(range(len(label_encoder.classes_)))))\n"
   ]
  }
 ],
 "metadata": {
  "kernelspec": {
   "display_name": "Python 3",
   "language": "python",
   "name": "python3"
  },
  "language_info": {
   "codemirror_mode": {
    "name": "ipython",
    "version": 3
   },
   "file_extension": ".py",
   "mimetype": "text/x-python",
   "name": "python",
   "nbconvert_exporter": "python",
   "pygments_lexer": "ipython3",
   "version": "3.11.3"
  }
 },
 "nbformat": 4,
 "nbformat_minor": 2
}

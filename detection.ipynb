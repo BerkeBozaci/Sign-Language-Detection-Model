{
 "cells": [
  {
   "cell_type": "markdown",
   "id": "9625fca3-c3d5-49db-b09d-6fbb067951b7",
   "metadata": {},
   "source": [
    "Train and test data are inside combined_data.csv file. "
   ]
  },
  {
   "cell_type": "code",
   "execution_count": 11,
   "id": "ba2a1c4e-bea2-44ad-8b54-8053a54ac68c",
   "metadata": {},
   "outputs": [],
   "source": [
    "import pandas as pd\n",
    "\n",
    "df = pd.read_csv('./combined_data.csv', delimiter=';')"
   ]
  },
  {
   "cell_type": "code",
   "execution_count": 12,
   "id": "2995b855-ec1d-438f-a873-19bfc820ba76",
   "metadata": {},
   "outputs": [],
   "source": [
    "df_encoded = pd.get_dummies(df, columns=['Thumb Curl', 'Thumb Direction', 'Index Curl', 'Index Direction', \n",
    "                                         'Middle Curl', 'Middle Direction', 'Ring Curl', 'Ring Direction', \n",
    "                                         'Pinky Curl', 'Pinky Direction'])"
   ]
  },
  {
   "cell_type": "code",
   "execution_count": 17,
   "id": "d15901dc",
   "metadata": {},
   "outputs": [],
   "source": [
    "from sklearn.model_selection import train_test_split\n",
    "\n",
    "X = df_encoded.drop('Label', axis=1)\n",
    "y = df_encoded['Label']\n",
    "\n",
    "X_train, X_test, y_train, y_test = train_test_split(X, y, test_size=0.2, random_state=42)\n"
   ]
  },
  {
   "cell_type": "code",
   "execution_count": 18,
   "id": "29895cae",
   "metadata": {},
   "outputs": [
    {
     "name": "stdout",
     "output_type": "stream",
     "text": [
      "Accuracy: 0.939\n",
      "Classification Report:\n",
      "               precision    recall  f1-score   support\n",
      "\n",
      "           A       0.98      0.93      0.95        56\n",
      "           B       1.00      1.00      1.00         5\n",
      "           C       0.87      1.00      0.93        27\n",
      "           D       1.00      1.00      1.00        36\n",
      "           E       1.00      1.00      1.00        50\n",
      "           F       1.00      1.00      1.00        28\n",
      "           G       0.97      1.00      0.98        31\n",
      "           H       1.00      1.00      1.00        39\n",
      "           I       1.00      1.00      1.00        49\n",
      "           K       0.90      0.98      0.94        58\n",
      "           L       1.00      1.00      1.00        36\n",
      "           M       0.71      1.00      0.83        29\n",
      "           N       0.98      0.79      0.88        71\n",
      "           O       1.00      0.92      0.96        48\n",
      "           P       1.00      1.00      1.00        31\n",
      "           Q       1.00      0.98      0.99        59\n",
      "           R       0.68      0.85      0.76        60\n",
      "           S       0.91      1.00      0.95        30\n",
      "           T       0.93      0.98      0.95        42\n",
      "           U       0.79      0.92      0.85        24\n",
      "           V       1.00      0.25      0.40        32\n",
      "           W       1.00      1.00      1.00        39\n",
      "           X       1.00      1.00      1.00        63\n",
      "           Y       1.00      1.00      1.00        57\n",
      "\n",
      "    accuracy                           0.94      1000\n",
      "   macro avg       0.95      0.94      0.93      1000\n",
      "weighted avg       0.95      0.94      0.93      1000\n",
      "\n"
     ]
    }
   ],
   "source": [
    "from sklearn.ensemble import RandomForestClassifier\n",
    "from sklearn.metrics import classification_report, accuracy_score\n",
    "\n",
    "# Initialize the model\n",
    "model = RandomForestClassifier(n_estimators=100, random_state=42)\n",
    "\n",
    "# Train the model\n",
    "model.fit(X_train, y_train)\n",
    "\n",
    "# Make predictions\n",
    "y_pred = model.predict(X_test)\n",
    "\n",
    "# Evaluate the model\n",
    "print(\"Accuracy:\", accuracy_score(y_test, y_pred))\n",
    "print(\"Classification Report:\\n\", classification_report(y_test, y_pred))\n"
   ]
  },
  {
   "cell_type": "code",
   "execution_count": 19,
   "id": "d304876d",
   "metadata": {},
   "outputs": [
    {
     "name": "stdout",
     "output_type": "stream",
     "text": [
      "Fitting 5 folds for each of 9 candidates, totalling 45 fits\n",
      "[CV] END ......................max_depth=10, n_estimators=50; total time=   0.1s\n",
      "[CV] END ......................max_depth=10, n_estimators=50; total time=   0.1s\n",
      "[CV] END ......................max_depth=10, n_estimators=50; total time=   0.1s\n",
      "[CV] END .....................max_depth=10, n_estimators=100; total time=   0.2s\n",
      "[CV] END .....................max_depth=10, n_estimators=200; total time=   0.3s\n",
      "[CV] END ......................max_depth=10, n_estimators=50; total time=   0.1s\n",
      "[CV] END ......................max_depth=10, n_estimators=50; total time=   0.1s\n",
      "[CV] END .....................max_depth=10, n_estimators=100; total time=   0.2s\n",
      "[CV] END ......................max_depth=20, n_estimators=50; total time=   0.1s\n",
      "[CV] END .....................max_depth=10, n_estimators=100; total time=   0.2s\n",
      "[CV] END .....................max_depth=10, n_estimators=100; total time=   0.2s\n",
      "[CV] END ......................max_depth=20, n_estimators=50; total time=   0.1s\n",
      "[CV] END .....................max_depth=10, n_estimators=100; total time=   0.2s\n",
      "[CV] END ......................max_depth=20, n_estimators=50; total time=   0.1s\n",
      "[CV] END .....................max_depth=10, n_estimators=200; total time=   0.3s\n",
      "[CV] END ......................max_depth=20, n_estimators=50; total time=   0.1s\n",
      "[CV] END ......................max_depth=20, n_estimators=50; total time=   0.1s\n",
      "[CV] END .....................max_depth=10, n_estimators=200; total time=   0.3s\n",
      "[CV] END .....................max_depth=20, n_estimators=100; total time=   0.2s\n",
      "[CV] END .....................max_depth=10, n_estimators=200; total time=   0.4s\n",
      "[CV] END .....................max_depth=20, n_estimators=100; total time=   0.1s\n",
      "[CV] END .....................max_depth=10, n_estimators=200; total time=   0.4s\n",
      "[CV] END .....................max_depth=20, n_estimators=100; total time=   0.2s\n",
      "[CV] END .....................max_depth=20, n_estimators=100; total time=   0.2s\n",
      "[CV] END .....................max_depth=20, n_estimators=100; total time=   0.2s\n",
      "[CV] END ......................max_depth=30, n_estimators=50; total time=   0.1s\n",
      "[CV] END ......................max_depth=30, n_estimators=50; total time=   0.1s\n",
      "[CV] END ......................max_depth=30, n_estimators=50; total time=   0.1s\n",
      "[CV] END ......................max_depth=30, n_estimators=50; total time=   0.1s\n",
      "[CV] END ......................max_depth=30, n_estimators=50; total time=   0.1s\n",
      "[CV] END .....................max_depth=20, n_estimators=200; total time=   0.3s\n",
      "[CV] END .....................max_depth=20, n_estimators=200; total time=   0.3s\n",
      "[CV] END .....................max_depth=30, n_estimators=100; total time=   0.2s\n",
      "[CV] END .....................max_depth=20, n_estimators=200; total time=   0.3s\n",
      "[CV] END .....................max_depth=30, n_estimators=100; total time=   0.2s\n",
      "[CV] END .....................max_depth=20, n_estimators=200; total time=   0.3s\n",
      "[CV] END .....................max_depth=30, n_estimators=100; total time=   0.2s\n",
      "[CV] END .....................max_depth=20, n_estimators=200; total time=   0.4s\n",
      "[CV] END .....................max_depth=30, n_estimators=100; total time=   0.2s\n",
      "[CV] END .....................max_depth=30, n_estimators=100; total time=   0.2s\n",
      "[CV] END .....................max_depth=30, n_estimators=200; total time=   0.3s\n",
      "[CV] END .....................max_depth=30, n_estimators=200; total time=   0.3s\n",
      "[CV] END .....................max_depth=30, n_estimators=200; total time=   0.3s\n",
      "[CV] END .....................max_depth=30, n_estimators=200; total time=   0.3s\n",
      "[CV] END .....................max_depth=30, n_estimators=200; total time=   0.3s\n",
      "Best Parameters: {'max_depth': 20, 'n_estimators': 50}\n"
     ]
    }
   ],
   "source": [
    "from sklearn.model_selection import GridSearchCV\n",
    "\n",
    "# Define the parameter grid\n",
    "param_grid = {\n",
    "    'n_estimators': [50, 100, 200],\n",
    "    'max_depth': [10, 20, 30],\n",
    "}\n",
    "\n",
    "# Initialize GridSearchCV\n",
    "grid_search = GridSearchCV(estimator=RandomForestClassifier(random_state=42),\n",
    "                           param_grid=param_grid,\n",
    "                           cv=5,\n",
    "                           n_jobs=-1,\n",
    "                           verbose=2)\n",
    "\n",
    "# Fit GridSearchCV\n",
    "grid_search.fit(X_train, y_train)\n",
    "\n",
    "# Get the best parameters\n",
    "print(\"Best Parameters:\", grid_search.best_params_)\n"
   ]
  },
  {
   "cell_type": "code",
   "execution_count": 20,
   "id": "b07ca48f",
   "metadata": {},
   "outputs": [],
   "source": [
    "import joblib\n",
    "\n",
    "# Save the model\n",
    "joblib.dump(model, 'random_forest_model.pkl')\n",
    "\n",
    "# Load the model\n",
    "loaded_model = joblib.load('random_forest_model.pkl')\n"
   ]
  }
 ],
 "metadata": {
  "kernelspec": {
   "display_name": "Python 3 (ipykernel)",
   "language": "python",
   "name": "python3"
  },
  "language_info": {
   "codemirror_mode": {
    "name": "ipython",
    "version": 3
   },
   "file_extension": ".py",
   "mimetype": "text/x-python",
   "name": "python",
   "nbconvert_exporter": "python",
   "pygments_lexer": "ipython3",
   "version": "3.11.3"
  }
 },
 "nbformat": 4,
 "nbformat_minor": 5
}

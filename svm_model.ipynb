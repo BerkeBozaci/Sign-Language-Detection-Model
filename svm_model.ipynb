{
 "cells": [
  {
   "cell_type": "markdown",
   "metadata": {},
   "source": [
    "Support Vector Machine (SVM)"
   ]
  },
  {
   "cell_type": "code",
   "execution_count": 2,
   "metadata": {},
   "outputs": [
    {
     "name": "stdout",
     "output_type": "stream",
     "text": [
      "SVM Accuracy: 0.9240\n",
      "              precision    recall  f1-score   support\n",
      "\n",
      "           0       0.87      0.86      0.86        56\n",
      "           1       1.00      1.00      1.00         5\n",
      "          10       0.95      1.00      0.97        36\n",
      "          11       0.71      1.00      0.83        29\n",
      "          12       0.95      0.73      0.83        71\n",
      "          13       1.00      0.92      0.96        48\n",
      "          14       1.00      1.00      1.00        31\n",
      "          15       0.98      0.98      0.98        59\n",
      "          16       0.63      0.92      0.75        60\n",
      "          17       0.90      0.93      0.92        30\n",
      "          18       0.93      0.98      0.95        42\n",
      "          19       0.95      0.79      0.86        24\n",
      "           2       0.87      1.00      0.93        27\n",
      "          20       1.00      0.22      0.36        32\n",
      "          21       1.00      1.00      1.00        39\n",
      "          22       0.97      1.00      0.98        63\n",
      "          23       1.00      1.00      1.00        57\n",
      "           3       1.00      0.94      0.97        36\n",
      "           4       1.00      1.00      1.00        50\n",
      "           5       1.00      1.00      1.00        28\n",
      "           6       0.97      0.97      0.97        31\n",
      "           7       1.00      1.00      1.00        39\n",
      "           8       1.00      1.00      1.00        49\n",
      "           9       0.92      0.95      0.93        58\n",
      "\n",
      "    accuracy                           0.92      1000\n",
      "   macro avg       0.94      0.92      0.92      1000\n",
      "weighted avg       0.94      0.92      0.92      1000\n",
      "\n"
     ]
    }
   ],
   "source": [
    "import pandas as pd\n",
    "from sklearn.model_selection import train_test_split\n",
    "from sklearn.preprocessing import LabelEncoder\n",
    "from sklearn.svm import SVC\n",
    "from sklearn.metrics import accuracy_score, classification_report\n",
    "\n",
    "# Load the formatted data\n",
    "data = pd.read_csv('formatted_data.csv')\n",
    "\n",
    "# Initialize LabelEncoder for the label column\n",
    "label_encoder = LabelEncoder()\n",
    "data['Label'] = label_encoder.fit_transform(data['Label'].astype(str))\n",
    "\n",
    "# Split the data into features (X) and target (y)\n",
    "X = data.iloc[:, :-1].values  # All columns except the last one\n",
    "y = data['Label'].values      # The last column is the target\n",
    "\n",
    "# Split into training and testing data\n",
    "X_train, X_test, y_train, y_test = train_test_split(X, y, test_size=0.2, random_state=42)\n",
    "\n",
    "# Define the SVM model\n",
    "svm_model = SVC(kernel='linear', probability=True)\n",
    "\n",
    "# Train the model\n",
    "svm_model.fit(X_train, y_train)\n",
    "\n",
    "# Predict on the test data\n",
    "y_pred = svm_model.predict(X_test)\n",
    "\n",
    "# Display the accuracy\n",
    "accuracy = accuracy_score(y_test, y_pred)\n",
    "print(f'SVM Accuracy: {accuracy:.4f}')\n",
    "\n",
    "# Print the classification report\n",
    "print(classification_report(y_test, y_pred, target_names=label_encoder.inverse_transform(range(len(label_encoder.classes_)))))\n"
   ]
  }
 ],
 "metadata": {
  "kernelspec": {
   "display_name": "Python 3",
   "language": "python",
   "name": "python3"
  },
  "language_info": {
   "codemirror_mode": {
    "name": "ipython",
    "version": 3
   },
   "file_extension": ".py",
   "mimetype": "text/x-python",
   "name": "python",
   "nbconvert_exporter": "python",
   "pygments_lexer": "ipython3",
   "version": "3.11.3"
  }
 },
 "nbformat": 4,
 "nbformat_minor": 2
}

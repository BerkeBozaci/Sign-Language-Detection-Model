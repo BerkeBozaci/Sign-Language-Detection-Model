{
 "cells": [
  {
   "cell_type": "markdown",
   "metadata": {},
   "source": [
    "Import Libraries and Load Data"
   ]
  },
  {
   "cell_type": "code",
   "execution_count": 7,
   "metadata": {},
   "outputs": [
    {
     "name": "stdout",
     "output_type": "stream",
     "text": [
      "  Thumb Curl    Thumb Direction Index Curl   Index Direction Middle Curl  \\\n",
      "0  Half Curl  Diagonal Up Right  Full Curl  Diagonal Up Left   Full Curl   \n",
      "1  Half Curl  Diagonal Up Right  Full Curl  Diagonal Up Left   Full Curl   \n",
      "2  Half Curl  Diagonal Up Right  Full Curl  Diagonal Up Left   Full Curl   \n",
      "3  Half Curl  Diagonal Up Right  Full Curl  Diagonal Up Left   Full Curl   \n",
      "4  Half Curl  Diagonal Up Right  Full Curl  Diagonal Up Left   Full Curl   \n",
      "\n",
      "  Middle Direction  Ring Curl Ring Direction Pinky Curl Pinky Direction Label  \n",
      "0      Vertical Up  Full Curl    Vertical Up    No Curl     Vertical Up     I  \n",
      "1      Vertical Up  Full Curl    Vertical Up    No Curl     Vertical Up     I  \n",
      "2      Vertical Up  Full Curl    Vertical Up    No Curl     Vertical Up     I  \n",
      "3      Vertical Up  Full Curl    Vertical Up    No Curl     Vertical Up     I  \n",
      "4      Vertical Up  Full Curl    Vertical Up    No Curl     Vertical Up     I  \n"
     ]
    }
   ],
   "source": [
    "import pandas as pd\n",
    "from sklearn.model_selection import train_test_split\n",
    "from sklearn.preprocessing import LabelEncoder\n",
    "from sklearn.ensemble import RandomForestClassifier\n",
    "from sklearn.metrics import accuracy_score, classification_report\n",
    "\n",
    "# Load the data with a semicolon as the delimiter\n",
    "data = pd.read_csv('combined_data.csv', delimiter=';')  \n",
    "\n",
    "# Display the first few rows to verify the data has been loaded correctly\n",
    "print(data.head())\n"
   ]
  },
  {
   "cell_type": "markdown",
   "metadata": {},
   "source": [
    "Encode Categorical Features"
   ]
  },
  {
   "cell_type": "code",
   "execution_count": 8,
   "metadata": {},
   "outputs": [
    {
     "name": "stdout",
     "output_type": "stream",
     "text": [
      "   Thumb Curl  Thumb Direction  Index Curl  Index Direction  Middle Curl  \\\n",
      "0           0                2           0                0            0   \n",
      "1           0                2           0                0            0   \n",
      "2           0                2           0                0            0   \n",
      "3           0                2           0                0            0   \n",
      "4           0                2           0                0            0   \n",
      "\n",
      "   Middle Direction  Ring Curl  Ring Direction  Pinky Curl  Pinky Direction  \\\n",
      "0                 4          0               4           2                4   \n",
      "1                 4          0               4           2                4   \n",
      "2                 4          0               4           2                4   \n",
      "3                 4          0               4           2                4   \n",
      "4                 4          0               4           2                4   \n",
      "\n",
      "   Label  \n",
      "0      8  \n",
      "1      8  \n",
      "2      8  \n",
      "3      8  \n",
      "4      8  \n"
     ]
    }
   ],
   "source": [
    "# Initialize LabelEncoder\n",
    "le = LabelEncoder()\n",
    "\n",
    "# Encode each categorical column\n",
    "for column in data.columns[:-1]:  # Exclude the 'Label' column\n",
    "    data[column] = le.fit_transform(data[column].astype(str))  # Ensure the column is string before encoding\n",
    "\n",
    "# Encode the labels as well\n",
    "data['Label'] = le.fit_transform(data['Label'].astype(str))\n",
    "\n",
    "# Display the first few rows to verify the encoding\n",
    "print(data.head())"
   ]
  },
  {
   "cell_type": "markdown",
   "metadata": {},
   "source": [
    "Split Data into Training and Testing Sets"
   ]
  },
  {
   "cell_type": "code",
   "execution_count": 9,
   "metadata": {},
   "outputs": [
    {
     "name": "stdout",
     "output_type": "stream",
     "text": [
      "Training data shape: (3998, 10)\n",
      "Testing data shape: (1000, 10)\n"
     ]
    }
   ],
   "source": [
    "# Split the data into features (X) and target (y)\n",
    "X = data.iloc[:, :-1]  # All columns except the last one\n",
    "y = data['Label']      # The last column is the target\n",
    "\n",
    "# Split into training and testing data\n",
    "X_train, X_test, y_train, y_test = train_test_split(X, y, test_size=0.2, random_state=42)\n",
    "\n",
    "# Display the shape of the datasets\n",
    "print(f'Training data shape: {X_train.shape}')\n",
    "print(f'Testing data shape: {X_test.shape}')\n"
   ]
  },
  {
   "cell_type": "markdown",
   "metadata": {},
   "source": [
    "Train the Random Forest Classifier"
   ]
  },
  {
   "cell_type": "code",
   "execution_count": 10,
   "metadata": {},
   "outputs": [
    {
     "name": "stdout",
     "output_type": "stream",
     "text": [
      "Accuracy: 0.94\n",
      "              precision    recall  f1-score   support\n",
      "\n",
      "           A       0.98      0.93      0.95        56\n",
      "           B       1.00      1.00      1.00         5\n",
      "           C       0.87      1.00      0.93        27\n",
      "           D       1.00      1.00      1.00        36\n",
      "           E       1.00      1.00      1.00        50\n",
      "           F       1.00      1.00      1.00        28\n",
      "           G       0.97      1.00      0.98        31\n",
      "           H       1.00      1.00      1.00        39\n",
      "           I       1.00      1.00      1.00        49\n",
      "           K       0.90      0.98      0.94        58\n",
      "           L       1.00      1.00      1.00        36\n",
      "           M       0.71      1.00      0.83        29\n",
      "           N       0.98      0.79      0.88        71\n",
      "           O       1.00      0.92      0.96        48\n",
      "           P       1.00      1.00      1.00        31\n",
      "           Q       1.00      0.98      0.99        59\n",
      "           R       0.68      0.85      0.76        60\n",
      "           S       0.91      1.00      0.95        30\n",
      "           T       0.93      0.98      0.95        42\n",
      "           U       0.79      0.92      0.85        24\n",
      "           V       1.00      0.25      0.40        32\n",
      "           W       1.00      1.00      1.00        39\n",
      "           X       1.00      1.00      1.00        63\n",
      "           Y       1.00      1.00      1.00        57\n",
      "\n",
      "    accuracy                           0.94      1000\n",
      "   macro avg       0.95      0.94      0.93      1000\n",
      "weighted avg       0.95      0.94      0.93      1000\n",
      "\n"
     ]
    }
   ],
   "source": [
    "# Initialize the Random Forest Classifier\n",
    "rf_model = RandomForestClassifier(n_estimators=100, random_state=42)\n",
    "\n",
    "# Train the model\n",
    "rf_model.fit(X_train, y_train)\n",
    "\n",
    "# Predict on the test data\n",
    "y_pred = rf_model.predict(X_test)\n",
    "\n",
    "# Display the accuracy\n",
    "accuracy = accuracy_score(y_test, y_pred)\n",
    "print(f'Accuracy: {accuracy:.2f}')\n",
    "\n",
    "# Print the classification report for more detailed metrics\n",
    "print(classification_report(y_test, y_pred, target_names=le.inverse_transform(range(len(le.classes_)))))\n"
   ]
  },
  {
   "cell_type": "markdown",
   "metadata": {},
   "source": [
    "Saving the model"
   ]
  },
  {
   "cell_type": "code",
   "execution_count": 11,
   "metadata": {},
   "outputs": [
    {
     "name": "stdout",
     "output_type": "stream",
     "text": [
      "Model saved to 'asl_rf_model.pkl'\n"
     ]
    }
   ],
   "source": [
    "import joblib\n",
    "\n",
    "# Save the model to a file\n",
    "joblib.dump(rf_model, 'asl_rf_model.pkl')\n",
    "\n",
    "print(\"Model saved to 'asl_rf_model.pkl'\")\n",
    "\n",
    "\n",
    "import joblib\n",
    "from skl2onnx import convert_sklearn\n",
    "from skl2onnx.common.data_types import FloatTensorType\n",
    "\n",
    "# Load the trained model\n",
    "rf_model = joblib.load('asl_rf_model.pkl')\n",
    "\n",
    "# Define initial types\n",
    "initial_type = [('float_input', FloatTensorType([None, X_train.shape[1]]))]\n",
    "\n",
    "# Convert the model to ONNX format\n",
    "onnx_model = convert_sklearn(rf_model, initial_types=initial_type)\n",
    "\n",
    "# Save the model\n",
    "with open(\"model.onnx\", \"wb\") as f:\n",
    "    f.write(onnx_model.SerializeToString())\n"
   ]
  },
  {
   "cell_type": "code",
   "execution_count": 17,
   "metadata": {},
   "outputs": [
    {
     "name": "stdout",
     "output_type": "stream",
     "text": [
      "[6]\n",
      "The predicted ASL letter is: G\n",
      "The predicted ASL letter is: A\n",
      "The predicted ASL letter is: B\n",
      "The predicted ASL letter is: C\n",
      "The predicted ASL letter is: D\n",
      "The predicted ASL letter is: E\n"
     ]
    },
    {
     "name": "stderr",
     "output_type": "stream",
     "text": [
      "/Users/berkebozaci/.pyenv/versions/3.11.3/lib/python3.11/site-packages/sklearn/base.py:493: UserWarning: X does not have valid feature names, but RandomForestClassifier was fitted with feature names\n",
      "  warnings.warn(\n",
      "/Users/berkebozaci/.pyenv/versions/3.11.3/lib/python3.11/site-packages/sklearn/preprocessing/_label.py:153: DataConversionWarning: A column-vector y was passed when a 1d array was expected. Please change the shape of y to (n_samples, ), for example using ravel().\n",
      "  y = column_or_1d(y, warn=True)\n"
     ]
    }
   ],
   "source": [
    "import joblib\n",
    "import numpy as np\n",
    "\n",
    "# Load the model\n",
    "model = joblib.load('asl_rf_model.pkl')\n",
    "\n",
    "# Define the input\n",
    "input_data = np.array([0, 4, 1, 2, 0, 2, 0, 2, 0, 2]).reshape(1, -1)\n",
    "\n",
    "# Predict the label\n",
    "predicted_label = model.predict(input_data)\n",
    "\n",
    "# Print the predicted label\n",
    "print(predicted_label)\n",
    "\n",
    "# Decode the label back to the corresponding ASL letter\n",
    "asl_letter = le.inverse_transform([predicted_label])\n",
    "\n",
    "\n",
    "print(f\"The predicted ASL letter is: {asl_letter[0]}\")\n",
    "\n",
    "\n"
   ]
  },
  {
   "cell_type": "code",
   "execution_count": 20,
   "metadata": {},
   "outputs": [
    {
     "name": "stdout",
     "output_type": "stream",
     "text": [
      "The predicted ASL letter is: ['A']\n",
      "The predicted ASL letter is: ['B']\n",
      "The predicted ASL letter is: ['C']\n",
      "The predicted ASL letter is: ['D']\n",
      "The predicted ASL letter is: ['E']\n",
      "The predicted ASL letter is: ['F']\n",
      "The predicted ASL letter is: ['G']\n",
      "The predicted ASL letter is: ['H']\n",
      "The predicted ASL letter is: ['I']\n",
      "The predicted ASL letter is: ['K']\n",
      "The predicted ASL letter is: ['L']\n",
      "The predicted ASL letter is: ['M']\n",
      "The predicted ASL letter is: ['N']\n",
      "The predicted ASL letter is: ['O']\n",
      "The predicted ASL letter is: ['P']\n",
      "The predicted ASL letter is: ['Q']\n",
      "The predicted ASL letter is: ['R']\n",
      "The predicted ASL letter is: ['S']\n",
      "The predicted ASL letter is: ['T']\n",
      "The predicted ASL letter is: ['U']\n",
      "The predicted ASL letter is: ['V']\n",
      "The predicted ASL letter is: ['W']\n",
      "The predicted ASL letter is: ['X']\n",
      "The predicted ASL letter is: ['Y']\n"
     ]
    }
   ],
   "source": [
    "print(f\"The predicted ASL letter is: {le.inverse_transform([0])}\")\n",
    "print(f\"The predicted ASL letter is: {le.inverse_transform([1])}\")\n",
    "print(f\"The predicted ASL letter is: {le.inverse_transform([2])}\")\n",
    "print(f\"The predicted ASL letter is: {le.inverse_transform([3])}\")\n",
    "print(f\"The predicted ASL letter is: {le.inverse_transform([4])}\")\n",
    "print(f\"The predicted ASL letter is: {le.inverse_transform([5])}\")\n",
    "print(f\"The predicted ASL letter is: {le.inverse_transform([6])}\")\n",
    "print(f\"The predicted ASL letter is: {le.inverse_transform([7])}\")\n",
    "print(f\"The predicted ASL letter is: {le.inverse_transform([8])}\")\n",
    "print(f\"The predicted ASL letter is: {le.inverse_transform([9])}\")\n",
    "print(f\"The predicted ASL letter is: {le.inverse_transform([10])}\")\n",
    "print(f\"The predicted ASL letter is: {le.inverse_transform([11])}\")\n",
    "print(f\"The predicted ASL letter is: {le.inverse_transform([12])}\")\n",
    "print(f\"The predicted ASL letter is: {le.inverse_transform([13])}\")\n",
    "print(f\"The predicted ASL letter is: {le.inverse_transform([14])}\")\n",
    "print(f\"The predicted ASL letter is: {le.inverse_transform([15])}\")\n",
    "print(f\"The predicted ASL letter is: {le.inverse_transform([16])}\")\n",
    "print(f\"The predicted ASL letter is: {le.inverse_transform([17])}\")\n",
    "print(f\"The predicted ASL letter is: {le.inverse_transform([18])}\")\n",
    "print(f\"The predicted ASL letter is: {le.inverse_transform([19])}\")\n",
    "print(f\"The predicted ASL letter is: {le.inverse_transform([20])}\")\n",
    "print(f\"The predicted ASL letter is: {le.inverse_transform([21])}\")\n",
    "print(f\"The predicted ASL letter is: {le.inverse_transform([22])}\")\n",
    "print(f\"The predicted ASL letter is: {le.inverse_transform([23])}\")\n",
    "\n",
    "\n"
   ]
  }
 ],
 "metadata": {
  "kernelspec": {
   "display_name": "Python 3",
   "language": "python",
   "name": "python3"
  },
  "language_info": {
   "codemirror_mode": {
    "name": "ipython",
    "version": 3
   },
   "file_extension": ".py",
   "mimetype": "text/x-python",
   "name": "python",
   "nbconvert_exporter": "python",
   "pygments_lexer": "ipython3",
   "version": "3.11.3"
  }
 },
 "nbformat": 4,
 "nbformat_minor": 2
}
